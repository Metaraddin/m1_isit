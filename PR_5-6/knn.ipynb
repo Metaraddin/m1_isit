{
 "cells": [
  {
   "cell_type": "code",
   "execution_count": 1,
   "metadata": {},
   "outputs": [],
   "source": [
    "import numpy as np\n",
    "import seaborn as sns\n",
    "import warnings\n",
    "\n",
    "import matplotlib.cm as cm\n",
    "import matplotlib.patches as mpatches\n",
    "import matplotlib.pyplot as plt\n",
    "\n",
    "\n",
    "from sklearn.neighbors import KNeighborsClassifier\n",
    "from sklearn.metrics import classification_report, recall_score, precision_score, f1_score\n",
    "from sklearn.preprocessing import MinMaxScaler, RobustScaler, StandardScaler\n",
    "from sklearn.model_selection import GridSearchCV, train_test_split\n",
    "from sklearn.manifold import TSNE\n",
    "from umap import UMAP\n",
    "\n",
    "warnings.filterwarnings(\"ignore\")\n",
    "\n",
    "%matplotlib inline"
   ]
  },
  {
   "cell_type": "code",
   "execution_count": 3,
   "metadata": {},
   "outputs": [],
   "source": [
    "def read_data(filename: str, delimeter=';'):\n",
    "    with open(filename, mode=\"r\", newline='') as f:\n",
    "        features = list()\n",
    "        targets = list()\n",
    "        for row in f:\n",
    "            line = list()\n",
    "            for s in row.split(delimeter):\n",
    "                s = s.strip()\n",
    "                if s:\n",
    "                    line.append(s)\n",
    "            \n",
    "            t = int(line[-1])\n",
    "            if t < 3:\n",
    "                t -= 1\n",
    "                features.append(list(map(float ,line[1:-1])))\n",
    "                targets.append(t)\n",
    "    return features, targets"
   ]
  },
  {
   "cell_type": "code",
   "execution_count": 4,
   "metadata": {},
   "outputs": [],
   "source": [
    "def plot_embeddings(embedded_tsne, targets, predicted):\n",
    "    labels = list(range(np.max(targets)+1))\n",
    "    palette = np.array(sns.color_palette(n_colors=len(labels)))\n",
    "\n",
    "    patchs = []\n",
    "    for i, color in enumerate(palette):\n",
    "        patchs.append(mpatches.Patch(color=color, label=i))\n",
    "\n",
    "\n",
    "    plt.figure(figsize=(8, 4))\n",
    "    plt.subplot(1, 2, 1)\n",
    "    plt.scatter(embedded_tsne[:,0], embedded_tsne[:,1], c=palette[targets])\n",
    "    plt.legend(handles=patchs, loc='upper right')\n",
    "    plt.title(\"Targets\")\n",
    "\n",
    "    plt.subplot(1, 2, 2)\n",
    "    plt.scatter(embedded_tsne[:,0], embedded_tsne[:,1], c=palette[predicted])\n",
    "    plt.legend(handles=patchs, loc='upper right')\n",
    "    plt.title(\"Predictions\")\n",
    "\n",
    "    plt.show()"
   ]
  },
  {
   "cell_type": "code",
   "execution_count": 5,
   "metadata": {},
   "outputs": [],
   "source": [
    "features, targets = read_data('glass.data', delimeter=',')\n",
    "features = np.array(features)\n",
    "features = UMAP().fit_transform(features)\n",
    "features = StandardScaler().fit_transform(features)\n",
    "\n",
    "targets = np.array(targets)"
   ]
  },
  {
   "cell_type": "code",
   "execution_count": 6,
   "metadata": {},
   "outputs": [],
   "source": [
    "parameters = {\n",
    "    'n_neighbors': np.linspace(5, 15, 10, dtype=np.int32),\n",
    "    'algorithm': ['ball_tree', 'kd_tree', 'brute'],\n",
    "    'weights': ['distance', 'uniform'],\n",
    "    'p': [1, 2]\n",
    "}\n",
    "\n",
    "clf = GridSearchCV(KNeighborsClassifier(), parameters)"
   ]
  },
  {
   "cell_type": "code",
   "execution_count": 8,
   "metadata": {},
   "outputs": [
    {
     "data": {
      "text/plain": [
       "GridSearchCV(estimator=KNeighborsClassifier(),\n",
       "             param_grid={'algorithm': ['ball_tree', 'kd_tree', 'brute'],\n",
       "                         'n_neighbors': array([ 5,  6,  7,  8,  9, 10, 11, 12, 13, 15]),\n",
       "                         'p': [1, 2], 'weights': ['distance', 'uniform']})"
      ]
     },
     "execution_count": 8,
     "metadata": {},
     "output_type": "execute_result"
    }
   ],
   "source": [
    "clf.fit(features, targets)"
   ]
  },
  {
   "cell_type": "code",
   "execution_count": 9,
   "metadata": {},
   "outputs": [
    {
     "data": {
      "text/plain": [
       "{'algorithm': 'ball_tree', 'n_neighbors': 10, 'p': 2, 'weights': 'uniform'}"
      ]
     },
     "execution_count": 9,
     "metadata": {},
     "output_type": "execute_result"
    }
   ],
   "source": [
    "clf.best_params_"
   ]
  },
  {
   "cell_type": "code",
   "execution_count": 10,
   "metadata": {},
   "outputs": [
    {
     "name": "stdout",
     "output_type": "stream",
     "text": [
      "              precision    recall  f1-score   support\n",
      "\n",
      "           0      0.792     0.871     0.830        70\n",
      "           1      0.870     0.789     0.828        76\n",
      "\n",
      "    accuracy                          0.829       146\n",
      "   macro avg      0.831     0.830     0.829       146\n",
      "weighted avg      0.832     0.829     0.829       146\n",
      "\n"
     ]
    }
   ],
   "source": [
    "print(classification_report(targets, clf.predict(features), digits=3, zero_division=0))"
   ]
  },
  {
   "cell_type": "code",
   "execution_count": null,
   "metadata": {},
   "outputs": [],
   "source": []
  }
 ],
 "metadata": {
  "interpreter": {
   "hash": "87d62378c43c0ca305d934d41aa3c5bc3f35e75a9f69d025d2878e48512150bb"
  },
  "kernelspec": {
   "display_name": "Python 3 (ipykernel)",
   "language": "python",
   "name": "python3"
  },
  "language_info": {
   "codemirror_mode": {
    "name": "ipython",
    "version": 3
   },
   "file_extension": ".py",
   "mimetype": "text/x-python",
   "name": "python",
   "nbconvert_exporter": "python",
   "pygments_lexer": "ipython3",
   "version": "3.10.6"
  }
 },
 "nbformat": 4,
 "nbformat_minor": 2
}
