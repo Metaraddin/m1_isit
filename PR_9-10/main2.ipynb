{
 "cells": [
  {
   "cell_type": "code",
   "execution_count": 1,
   "id": "786e548f",
   "metadata": {},
   "outputs": [
    {
     "name": "stdout",
     "output_type": "stream",
     "text": [
      "Requirement already satisfied: geneticalgorithm in c:\\users\\metar\\documents\\github\\isit_m1\\pr_9-10\\venv\\lib\\site-packages (1.0.2)Note: you may need to restart the kernel to use updated packages.\n",
      "\n",
      "Requirement already satisfied: numpy in c:\\users\\metar\\documents\\github\\isit_m1\\pr_9-10\\venv\\lib\\site-packages (from geneticalgorithm) (1.23.4)\n",
      "Requirement already satisfied: func-timeout in c:\\users\\metar\\documents\\github\\isit_m1\\pr_9-10\\venv\\lib\\site-packages (from geneticalgorithm) (4.3.5)\n"
     ]
    },
    {
     "name": "stderr",
     "output_type": "stream",
     "text": [
      "WARNING: You are using pip version 21.3.1; however, version 22.3 is available.\n",
      "You should consider upgrading via the 'C:\\Users\\metar\\Documents\\GitHub\\ISIT_M1\\PR_9-10\\venv\\Scripts\\python.exe -m pip install --upgrade pip' command.\n"
     ]
    }
   ],
   "source": [
    "pip install geneticalgorithm"
   ]
  },
  {
   "cell_type": "code",
   "execution_count": 2,
   "id": "46f2c4ab",
   "metadata": {},
   "outputs": [],
   "source": [
    "import time \n",
    "import numpy as np\n",
    "import math\n",
    "from geneticalgorithm import geneticalgorithm as ga"
   ]
  },
  {
   "cell_type": "code",
   "execution_count": 3,
   "id": "556a1408",
   "metadata": {},
   "outputs": [],
   "source": [
    "def rastrigin(X):\n",
    "    dim = len(X)\n",
    "    OF = 0\n",
    "    for i in range (0, dim):\n",
    "        OF += (X[i]**2) - 10 * math.cos(2 * math.pi * X[i]) + 10\n",
    "    return OF"
   ]
  },
  {
   "cell_type": "code",
   "execution_count": null,
   "id": "4ae82345",
   "metadata": {},
   "outputs": [],
   "source": [
    "t = time.time()\n",
    "varbound = np.array([[-5.12, 5.12]]*2)"
   ]
  }
 ],
 "metadata": {
  "kernelspec": {
   "display_name": "Python 3 (ipykernel)",
   "language": "python",
   "name": "python3"
  },
  "language_info": {
   "codemirror_mode": {
    "name": "ipython",
    "version": 3
   },
   "file_extension": ".py",
   "mimetype": "text/x-python",
   "name": "python",
   "nbconvert_exporter": "python",
   "pygments_lexer": "ipython3",
   "version": "3.10.4"
  }
 },
 "nbformat": 4,
 "nbformat_minor": 5
}
