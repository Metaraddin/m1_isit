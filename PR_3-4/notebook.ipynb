{
 "cells": [
  {
   "cell_type": "code",
   "execution_count": 1,
   "metadata": {},
   "outputs": [],
   "source": [
    "import numpy as np\n",
    "\n",
    "import matplotlib.patches as mpatches\n",
    "import matplotlib.pyplot as plt\n",
    "import seaborn as sns\n",
    "\n",
    "from sklearn.manifold import TSNE\n",
    "from sklearn.preprocessing import MinMaxScaler, RobustScaler, StandardScaler\n",
    "from umap import UMAP\n",
    "\n",
    "%matplotlib inline"
   ]
  },
  {
   "cell_type": "code",
   "execution_count": 2,
   "metadata": {},
   "outputs": [],
   "source": [
    "def read_data(filename: str, delimeter=';'):\n",
    "    with open(filename, mode=\"r\", newline='') as f:\n",
    "        features = list()\n",
    "        targets = list()\n",
    "        for row in f:\n",
    "            line = list()\n",
    "            for s in row.split(delimeter):\n",
    "                s = s.strip()\n",
    "                if s:\n",
    "                    line.append(s)\n",
    "            features.append(list(map(float ,line[1:-1])))\n",
    "            targets.append(int(line[-1]))\n",
    "    return features, targets"
   ]
  },
  {
   "cell_type": "code",
   "execution_count": 3,
   "metadata": {},
   "outputs": [],
   "source": [
    "def plot_embeddings(embedded_tsne, embedded_umap, targets, names):\n",
    "    labels = list(range(np.max(targets)+1))\n",
    "    palette = np.array(sns.color_palette(n_colors=len(labels)))\n",
    "\n",
    "    patchs = []\n",
    "    for i, color in enumerate(palette):\n",
    "        patchs.append(mpatches.Patch(color=color, label=names[i]))\n",
    "\n",
    "\n",
    "    plt.figure(figsize=(16, 16))\n",
    "    plt.subplot(2, 1, 1)\n",
    "    plt.scatter(embedded_tsne[:,0], embedded_tsne[:,1], c=palette[targets])\n",
    "    plt.legend(handles=patchs, loc='upper right')\n",
    "    plt.title(\"Embedded with t-SNE\")\n",
    "\n",
    "    plt.subplot(2, 1, 2)\n",
    "    plt.scatter(embedded_umap[:,0], embedded_umap[:,1], c=palette[targets])\n",
    "    plt.legend(handles=patchs, loc='upper right')\n",
    "    plt.title(\"Embedded with UMAP\")\n",
    "\n",
    "    plt.show()"
   ]
  },
  {
   "cell_type": "code",
   "execution_count": 4,
   "metadata": {},
   "outputs": [
    {
     "data": {
      "text/plain": [
       "array([[ 1.52101, 13.64   ,  4.49   , ...,  8.75   ,  0.     ,  0.     ],\n",
       "       [ 1.51761, 13.89   ,  3.6    , ...,  7.83   ,  0.     ,  0.     ],\n",
       "       [ 1.51618, 13.53   ,  3.55   , ...,  7.78   ,  0.     ,  0.     ],\n",
       "       ...,\n",
       "       [ 1.52065, 14.36   ,  0.     , ...,  8.44   ,  1.64   ,  0.     ],\n",
       "       [ 1.51651, 14.38   ,  0.     , ...,  8.48   ,  1.57   ,  0.     ],\n",
       "       [ 1.51711, 14.23   ,  0.     , ...,  8.62   ,  1.67   ,  0.     ]])"
      ]
     },
     "execution_count": 4,
     "metadata": {},
     "output_type": "execute_result"
    }
   ],
   "source": [
    "features, targets = read_data('glass.data', delimeter=',')\n",
    "np.array(features)"
   ]
  },
  {
   "cell_type": "code",
   "execution_count": 5,
   "metadata": {},
   "outputs": [],
   "source": [
    "names = ('building_windows_float_processed',\n",
    "          'building_windows_non_float_processed',\n",
    "          'vehicle_windows_float_processed',\n",
    "          'vehicle_windows_non_float_processed',\n",
    "          'containers',\n",
    "          'tableware',\n",
    "          'headlamps')"
   ]
  },
  {
   "cell_type": "code",
   "execution_count": 6,
   "metadata": {},
   "outputs": [
    {
     "name": "stderr",
     "output_type": "stream",
     "text": [
      "C:\\Users\\metar\\Documents\\GitHub\\ISIT_M1\\PR_3-4\\venv\\lib\\site-packages\\sklearn\\manifold\\_t_sne.py:800: FutureWarning: The default initialization in TSNE will change from 'random' to 'pca' in 1.2.\n",
      "  warnings.warn(\n",
      "C:\\Users\\metar\\Documents\\GitHub\\ISIT_M1\\PR_3-4\\venv\\lib\\site-packages\\sklearn\\manifold\\_t_sne.py:810: FutureWarning: The default learning rate in TSNE will change from 200.0 to 'auto' in 1.2.\n",
      "  warnings.warn(\n"
     ]
    }
   ],
   "source": [
    "embedded_tsne = TSNE().fit_transform(np.array(features))"
   ]
  },
  {
   "cell_type": "code",
   "execution_count": null,
   "metadata": {},
   "outputs": [],
   "source": [
    "embedded_umap = UMAP().fit_transform(features)"
   ]
  },
  {
   "cell_type": "code",
   "execution_count": null,
   "metadata": {},
   "outputs": [],
   "source": [
    "plot_embeddings(embedded_tsne, embedded_umap, targets, names)"
   ]
  },
  {
   "cell_type": "code",
   "execution_count": null,
   "metadata": {},
   "outputs": [],
   "source": [
    "min_max_scaled_tsne = TSNE().fit_transform(MinMaxScaler().fit_transform(features))\n",
    "min_max_scaled_umap = UMAP().fit_transform(MinMaxScaler().fit_transform(features))"
   ]
  },
  {
   "cell_type": "code",
   "execution_count": null,
   "metadata": {},
   "outputs": [],
   "source": [
    "plot_embeddings(min_max_scaled_tsne, min_max_scaled_umap, targets)"
   ]
  },
  {
   "cell_type": "code",
   "execution_count": null,
   "metadata": {},
   "outputs": [],
   "source": [
    "standard_scaled_tsne = TSNE().fit_transform(StandardScaler().fit_transform(features))\n",
    "standard_scaled_umap = UMAP().fit_transform(StandardScaler().fit_transform(features))\n",
    "plot_embeddings(standard_scaled_tsne, standard_scaled_umap, targets)"
   ]
  },
  {
   "cell_type": "code",
   "execution_count": null,
   "metadata": {},
   "outputs": [],
   "source": [
    "robust_scaled_tsne = TSNE().fit_transform(RobustScaler().fit_transform(features))\n",
    "robust_scaled_umap = UMAP().fit_transform(RobustScaler().fit_transform(features))\n",
    "plot_embeddings(robust_scaled_tsne, robust_scaled_umap, targets)"
   ]
  },
  {
   "cell_type": "code",
   "execution_count": null,
   "metadata": {},
   "outputs": [],
   "source": []
  }
 ],
 "metadata": {
  "interpreter": {
   "hash": "87d62378c43c0ca305d934d41aa3c5bc3f35e75a9f69d025d2878e48512150bb"
  },
  "kernelspec": {
   "display_name": "Python 3 (ipykernel)",
   "language": "python",
   "name": "python3"
  },
  "language_info": {
   "codemirror_mode": {
    "name": "ipython",
    "version": 3
   },
   "file_extension": ".py",
   "mimetype": "text/x-python",
   "name": "python",
   "nbconvert_exporter": "python",
   "pygments_lexer": "ipython3",
   "version": "3.10.6"
  }
 },
 "nbformat": 4,
 "nbformat_minor": 2
}
